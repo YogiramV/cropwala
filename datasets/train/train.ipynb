{
 "cells": [
  {
   "cell_type": "code",
   "execution_count": 1,
   "id": "d21072b2",
   "metadata": {},
   "outputs": [],
   "source": [
    "import pandas as pd\n",
    "import seaborn as sns \n",
    "from xgboost import XGBRegressor\n",
    "from lightgbm import LGBMRegressor\n",
    "import catboost\n",
    "from sklearn.multioutput import MultiOutputRegressor\n",
    "from sklearn.metrics import mean_squared_error\n",
    "from sklearn.model_selection import train_test_split\n",
    "from sklearn.model_selection import GridSearchCV\n",
    "import numpy as np\n",
    "import pickle"
   ]
  },
  {
   "cell_type": "markdown",
   "id": "8c17a95b",
   "metadata": {},
   "source": [
    "## XGBoost"
   ]
  },
  {
   "cell_type": "code",
   "execution_count": 2,
   "id": "df4891f5",
   "metadata": {},
   "outputs": [],
   "source": [
    "data = pd.read_csv('fertilizer_cleaned.csv')\n",
    "X = data.drop(columns = ['Nitrogen', 'Phosphorous', 'Potassium'])\n",
    "y = data[['Nitrogen', 'Phosphorous', 'Potassium']]\n",
    "X_train, X_test, y_train, y_test = train_test_split(X, y, random_state = 42)"
   ]
  },
  {
   "cell_type": "code",
   "execution_count": 3,
   "id": "41ab7b76",
   "metadata": {},
   "outputs": [
    {
     "data": {
      "text/plain": [
       "'xgb_model = XGBRegressor()\\n\\nmodel = MultiOutputRegressor(xgb_model)\\n\\nparam_grid = {\\n    \\'estimator__n_estimators\\': [100, 200, 300],  \\n    \\'estimator__learning_rate\\': [0.01, 0.05, 0.1],  \\n    \\'estimator__max_depth\\': [3, 4, 5, 6],  \\n    \\'estimator__subsample\\': [0.7, 0.8, 0.9, 1.0],  \\n    \\'estimator__colsample_bytree\\': [0.7, 0.8, 0.9, 1.0],  \\n}\\n\\ngrid_search = GridSearchCV(model, param_grid, cv=3, scoring=\\'neg_mean_squared_error\\', n_jobs=-1, verbose=1)\\ngrid_search.fit(X_train, y_train)\\n\\nbest_model = grid_search.best_estimator_\\n\\npred = best_model.predict(X_test)\\n\\nrmse = np.sqrt(mean_squared_error(y_test, pred))\\nprint(\\'Optimized RMSE:\\', rmse)\\n\\nprint(\"Best Parameters found: \", grid_search.best_params_)'"
      ]
     },
     "execution_count": 3,
     "metadata": {},
     "output_type": "execute_result"
    }
   ],
   "source": [
    "'''xgb_model = XGBRegressor()\n",
    "\n",
    "model = MultiOutputRegressor(xgb_model)\n",
    "\n",
    "param_grid = {\n",
    "    'estimator__n_estimators': [100, 200, 300],  \n",
    "    'estimator__learning_rate': [0.01, 0.05, 0.1],  \n",
    "    'estimator__max_depth': [3, 4, 5, 6],  \n",
    "    'estimator__subsample': [0.7, 0.8, 0.9, 1.0],  \n",
    "    'estimator__colsample_bytree': [0.7, 0.8, 0.9, 1.0],  \n",
    "}\n",
    "\n",
    "grid_search = GridSearchCV(model, param_grid, cv=3, scoring='neg_mean_squared_error', n_jobs=-1, verbose=1)\n",
    "grid_search.fit(X_train, y_train)\n",
    "\n",
    "best_model = grid_search.best_estimator_\n",
    "\n",
    "pred = best_model.predict(X_test)\n",
    "\n",
    "rmse = np.sqrt(mean_squared_error(y_test, pred))\n",
    "print('Optimized RMSE:', rmse)\n",
    "\n",
    "print(\"Best Parameters found: \", grid_search.best_params_)'''"
   ]
  },
  {
   "cell_type": "code",
   "execution_count": 4,
   "id": "ba967c7e",
   "metadata": {},
   "outputs": [
    {
     "data": {
      "text/plain": [
       "'from sklearn.model_selection import RandomizedSearchCV\\n\\nparam_dist = {\\n    \\'estimator__n_estimators\\': [100, 200, 300, 500],\\n    \\'estimator__learning_rate\\': [0.01, 0.05, 0.1, 0.2],\\n    \\'estimator__max_depth\\': [3, 4, 5, 6, 7],\\n    \\'estimator__subsample\\': [0.7, 0.8, 0.9, 1.0],\\n    \\'estimator__colsample_bytree\\': [0.7, 0.8, 0.9, 1.0],\\n}\\n\\nrandom_search = RandomizedSearchCV(model, param_dist, n_iter=100, cv=3, scoring=\\'neg_mean_squared_error\\', n_jobs=-1, verbose=1)\\nrandom_search.fit(X_train, y_train)\\n\\nbest_model_random = random_search.best_estimator_\\n\\npred_random = best_model_random.predict(X_test)\\n\\nrmse_random = np.sqrt(mean_squared_error(y_test, pred_random))\\nprint(\\'Optimized RMSE (Randomized Search):\\', rmse_random)\\n\\nprint(\"Best Parameters found: \", random_search.best_params_)\\n'"
      ]
     },
     "execution_count": 4,
     "metadata": {},
     "output_type": "execute_result"
    }
   ],
   "source": [
    "'''from sklearn.model_selection import RandomizedSearchCV\n",
    "\n",
    "param_dist = {\n",
    "    'estimator__n_estimators': [100, 200, 300, 500],\n",
    "    'estimator__learning_rate': [0.01, 0.05, 0.1, 0.2],\n",
    "    'estimator__max_depth': [3, 4, 5, 6, 7],\n",
    "    'estimator__subsample': [0.7, 0.8, 0.9, 1.0],\n",
    "    'estimator__colsample_bytree': [0.7, 0.8, 0.9, 1.0],\n",
    "}\n",
    "\n",
    "random_search = RandomizedSearchCV(model, param_dist, n_iter=100, cv=3, scoring='neg_mean_squared_error', n_jobs=-1, verbose=1)\n",
    "random_search.fit(X_train, y_train)\n",
    "\n",
    "best_model_random = random_search.best_estimator_\n",
    "\n",
    "pred_random = best_model_random.predict(X_test)\n",
    "\n",
    "rmse_random = np.sqrt(mean_squared_error(y_test, pred_random))\n",
    "print('Optimized RMSE (Randomized Search):', rmse_random)\n",
    "\n",
    "print(\"Best Parameters found: \", random_search.best_params_)\n",
    "'''"
   ]
  },
  {
   "cell_type": "code",
   "execution_count": 5,
   "id": "5bd47a74",
   "metadata": {},
   "outputs": [
    {
     "data": {
      "text/plain": [
       "'import joblib\\n\\nbest_model_random = random_search.best_estimator_\\n\\njoblib.dump(best_model_random, \\'../models/best_xgb_model_random_search.pkl\\')\\n\\nprint(\"Model saved successfully!\")'"
      ]
     },
     "execution_count": 5,
     "metadata": {},
     "output_type": "execute_result"
    }
   ],
   "source": [
    "'''import joblib\n",
    "\n",
    "best_model_random = random_search.best_estimator_\n",
    "\n",
    "joblib.dump(best_model_random, '../models/best_xgb_model_random_search.pkl')\n",
    "\n",
    "print(\"Model saved successfully!\")'''"
   ]
  },
  {
   "cell_type": "markdown",
   "id": "f8096b62",
   "metadata": {},
   "source": [
    "## Lightgbm"
   ]
  },
  {
   "cell_type": "code",
   "execution_count": 6,
   "id": "70a6cef5",
   "metadata": {},
   "outputs": [
    {
     "data": {
      "text/plain": [
       "'from lightgbm import LGBMRegressor\\nfrom sklearn.multioutput import MultiOutputRegressor\\nfrom sklearn.model_selection import RandomizedSearchCV\\nfrom sklearn.metrics import mean_squared_error\\nimport numpy as np\\nimport joblib\\n\\nlgb_model = LGBMRegressor(objective=\\'regression\\', random_state=42)\\n\\nmulti_lgb_model = MultiOutputRegressor(lgb_model)\\n\\nparam_dist = {\\n    \\'estimator__n_estimators\\': [100, 200, 300, 500],\\n    \\'estimator__learning_rate\\': [0.01, 0.05, 0.1, 0.2],\\n    \\'estimator__max_depth\\': [-1, 3, 5, 7, 10],  \\n    \\'estimator__num_leaves\\': [31, 50, 70, 100],  \\n    \\'estimator__subsample\\': [0.7, 0.8, 0.9, 1.0],  \\n    \\'estimator__colsample_bytree\\': [0.7, 0.8, 0.9, 1.0],  \\n}\\n\\nrandom_search_lgb = RandomizedSearchCV(\\n    estimator=multi_lgb_model,\\n    param_distributions=param_dist,\\n    n_iter=50,  \\n    cv=3,\\n    scoring=\\'neg_mean_squared_error\\',\\n    verbose=1,\\n    random_state=42,\\n    n_jobs=-1\\n)\\n\\nrandom_search_lgb.fit(X_train, y_train)\\n\\nbest_lgb_model = random_search_lgb.best_estimator_\\n\\npreds_lgb = best_lgb_model.predict(X_test)\\nrmse_lgb = np.sqrt(mean_squared_error(y_test, preds_lgb))\\nprint(\"Optimized RMSE (LightGBM):\", rmse_lgb)\\nprint(\"Best Params (LightGBM):\", random_search_lgb.best_params_)'"
      ]
     },
     "execution_count": 6,
     "metadata": {},
     "output_type": "execute_result"
    }
   ],
   "source": [
    "'''from lightgbm import LGBMRegressor\n",
    "from sklearn.multioutput import MultiOutputRegressor\n",
    "from sklearn.model_selection import RandomizedSearchCV\n",
    "from sklearn.metrics import mean_squared_error\n",
    "import numpy as np\n",
    "import joblib\n",
    "\n",
    "lgb_model = LGBMRegressor(objective='regression', random_state=42)\n",
    "\n",
    "multi_lgb_model = MultiOutputRegressor(lgb_model)\n",
    "\n",
    "param_dist = {\n",
    "    'estimator__n_estimators': [100, 200, 300, 500],\n",
    "    'estimator__learning_rate': [0.01, 0.05, 0.1, 0.2],\n",
    "    'estimator__max_depth': [-1, 3, 5, 7, 10],  \n",
    "    'estimator__num_leaves': [31, 50, 70, 100],  \n",
    "    'estimator__subsample': [0.7, 0.8, 0.9, 1.0],  \n",
    "    'estimator__colsample_bytree': [0.7, 0.8, 0.9, 1.0],  \n",
    "}\n",
    "\n",
    "random_search_lgb = RandomizedSearchCV(\n",
    "    estimator=multi_lgb_model,\n",
    "    param_distributions=param_dist,\n",
    "    n_iter=50,  \n",
    "    cv=3,\n",
    "    scoring='neg_mean_squared_error',\n",
    "    verbose=1,\n",
    "    random_state=42,\n",
    "    n_jobs=-1\n",
    ")\n",
    "\n",
    "random_search_lgb.fit(X_train, y_train)\n",
    "\n",
    "best_lgb_model = random_search_lgb.best_estimator_\n",
    "\n",
    "preds_lgb = best_lgb_model.predict(X_test)\n",
    "rmse_lgb = np.sqrt(mean_squared_error(y_test, preds_lgb))\n",
    "print(\"Optimized RMSE (LightGBM):\", rmse_lgb)\n",
    "print(\"Best Params (LightGBM):\", random_search_lgb.best_params_)'''"
   ]
  },
  {
   "cell_type": "code",
   "execution_count": 7,
   "id": "36886ea7",
   "metadata": {},
   "outputs": [
    {
     "data": {
      "text/plain": [
       "'joblib.dump(best_lgb_model, \"../models/best_lgb_model.pkl\")\\nprint(\"Model saved as best_lgb_model.pkl\")'"
      ]
     },
     "execution_count": 7,
     "metadata": {},
     "output_type": "execute_result"
    }
   ],
   "source": [
    "'''joblib.dump(best_lgb_model, \"../models/best_lgb_model.pkl\")\n",
    "print(\"Model saved as best_lgb_model.pkl\")'''"
   ]
  },
  {
   "cell_type": "markdown",
   "id": "fc91d79d",
   "metadata": {},
   "source": [
    "## Random Forest"
   ]
  },
  {
   "cell_type": "code",
   "execution_count": 9,
   "id": "eaeafafd",
   "metadata": {},
   "outputs": [
    {
     "name": "stdout",
     "output_type": "stream",
     "text": [
      "Fitting 3 folds for each of 75 candidates, totalling 225 fits\n"
     ]
    },
    {
     "name": "stderr",
     "output_type": "stream",
     "text": [
      "/home/morax/workspace/ml-projects/cropwala/.venv/lib/python3.12/site-packages/joblib/externals/loky/process_executor.py:752: UserWarning: A worker stopped while some jobs were given to the executor. This can be caused by a too short worker timeout or by a memory leak.\n",
      "  warnings.warn(\n",
      "/home/morax/workspace/ml-projects/cropwala/.venv/lib/python3.12/site-packages/sklearn/model_selection/_validation.py:528: FitFailedWarning: \n",
      "72 fits failed out of a total of 225.\n",
      "The score on these train-test partitions for these parameters will be set to nan.\n",
      "If these failures are not expected, you can try to debug them by setting error_score='raise'.\n",
      "\n",
      "Below are more details about the failures:\n",
      "--------------------------------------------------------------------------------\n",
      "21 fits failed with the following error:\n",
      "Traceback (most recent call last):\n",
      "  File \"/home/morax/workspace/ml-projects/cropwala/.venv/lib/python3.12/site-packages/sklearn/model_selection/_validation.py\", line 866, in _fit_and_score\n",
      "    estimator.fit(X_train, y_train, **fit_params)\n",
      "  File \"/home/morax/workspace/ml-projects/cropwala/.venv/lib/python3.12/site-packages/sklearn/base.py\", line 1389, in wrapper\n",
      "    return fit_method(estimator, *args, **kwargs)\n",
      "           ^^^^^^^^^^^^^^^^^^^^^^^^^^^^^^^^^^^^^^\n",
      "  File \"/home/morax/workspace/ml-projects/cropwala/.venv/lib/python3.12/site-packages/sklearn/multioutput.py\", line 274, in fit\n",
      "    self.estimators_ = Parallel(n_jobs=self.n_jobs)(\n",
      "                       ^^^^^^^^^^^^^^^^^^^^^^^^^^^^^\n",
      "  File \"/home/morax/workspace/ml-projects/cropwala/.venv/lib/python3.12/site-packages/sklearn/utils/parallel.py\", line 77, in __call__\n",
      "    return super().__call__(iterable_with_config)\n",
      "           ^^^^^^^^^^^^^^^^^^^^^^^^^^^^^^^^^^^^^^\n",
      "  File \"/home/morax/workspace/ml-projects/cropwala/.venv/lib/python3.12/site-packages/joblib/parallel.py\", line 1918, in __call__\n",
      "    return output if self.return_generator else list(output)\n",
      "                                                ^^^^^^^^^^^^\n",
      "  File \"/home/morax/workspace/ml-projects/cropwala/.venv/lib/python3.12/site-packages/joblib/parallel.py\", line 1847, in _get_sequential_output\n",
      "    res = func(*args, **kwargs)\n",
      "          ^^^^^^^^^^^^^^^^^^^^^\n",
      "  File \"/home/morax/workspace/ml-projects/cropwala/.venv/lib/python3.12/site-packages/sklearn/utils/parallel.py\", line 139, in __call__\n",
      "    return self.function(*args, **kwargs)\n",
      "           ^^^^^^^^^^^^^^^^^^^^^^^^^^^^^^\n",
      "  File \"/home/morax/workspace/ml-projects/cropwala/.venv/lib/python3.12/site-packages/sklearn/multioutput.py\", line 63, in _fit_estimator\n",
      "    estimator.fit(X, y, **fit_params)\n",
      "  File \"/home/morax/workspace/ml-projects/cropwala/.venv/lib/python3.12/site-packages/sklearn/base.py\", line 1382, in wrapper\n",
      "    estimator._validate_params()\n",
      "  File \"/home/morax/workspace/ml-projects/cropwala/.venv/lib/python3.12/site-packages/sklearn/base.py\", line 436, in _validate_params\n",
      "    validate_parameter_constraints(\n",
      "  File \"/home/morax/workspace/ml-projects/cropwala/.venv/lib/python3.12/site-packages/sklearn/utils/_param_validation.py\", line 98, in validate_parameter_constraints\n",
      "    raise InvalidParameterError(\n",
      "sklearn.utils._param_validation.InvalidParameterError: The 'max_features' parameter of RandomForestRegressor must be an int in the range [1, inf), a float in the range (0.0, 1.0], a str among {'sqrt', 'log2'} or None. Got 'auto' instead.\n",
      "\n",
      "--------------------------------------------------------------------------------\n",
      "51 fits failed with the following error:\n",
      "Traceback (most recent call last):\n",
      "  File \"/home/morax/workspace/ml-projects/cropwala/.venv/lib/python3.12/site-packages/sklearn/model_selection/_validation.py\", line 866, in _fit_and_score\n",
      "    estimator.fit(X_train, y_train, **fit_params)\n",
      "  File \"/home/morax/workspace/ml-projects/cropwala/.venv/lib/python3.12/site-packages/sklearn/base.py\", line 1389, in wrapper\n",
      "    return fit_method(estimator, *args, **kwargs)\n",
      "           ^^^^^^^^^^^^^^^^^^^^^^^^^^^^^^^^^^^^^^\n",
      "  File \"/home/morax/workspace/ml-projects/cropwala/.venv/lib/python3.12/site-packages/sklearn/multioutput.py\", line 274, in fit\n",
      "    self.estimators_ = Parallel(n_jobs=self.n_jobs)(\n",
      "                       ^^^^^^^^^^^^^^^^^^^^^^^^^^^^^\n",
      "  File \"/home/morax/workspace/ml-projects/cropwala/.venv/lib/python3.12/site-packages/sklearn/utils/parallel.py\", line 77, in __call__\n",
      "    return super().__call__(iterable_with_config)\n",
      "           ^^^^^^^^^^^^^^^^^^^^^^^^^^^^^^^^^^^^^^\n",
      "  File \"/home/morax/workspace/ml-projects/cropwala/.venv/lib/python3.12/site-packages/joblib/parallel.py\", line 1918, in __call__\n",
      "    return output if self.return_generator else list(output)\n",
      "                                                ^^^^^^^^^^^^\n",
      "  File \"/home/morax/workspace/ml-projects/cropwala/.venv/lib/python3.12/site-packages/joblib/parallel.py\", line 1847, in _get_sequential_output\n",
      "    res = func(*args, **kwargs)\n",
      "          ^^^^^^^^^^^^^^^^^^^^^\n",
      "  File \"/home/morax/workspace/ml-projects/cropwala/.venv/lib/python3.12/site-packages/sklearn/utils/parallel.py\", line 139, in __call__\n",
      "    return self.function(*args, **kwargs)\n",
      "           ^^^^^^^^^^^^^^^^^^^^^^^^^^^^^^\n",
      "  File \"/home/morax/workspace/ml-projects/cropwala/.venv/lib/python3.12/site-packages/sklearn/multioutput.py\", line 63, in _fit_estimator\n",
      "    estimator.fit(X, y, **fit_params)\n",
      "  File \"/home/morax/workspace/ml-projects/cropwala/.venv/lib/python3.12/site-packages/sklearn/base.py\", line 1382, in wrapper\n",
      "    estimator._validate_params()\n",
      "  File \"/home/morax/workspace/ml-projects/cropwala/.venv/lib/python3.12/site-packages/sklearn/base.py\", line 436, in _validate_params\n",
      "    validate_parameter_constraints(\n",
      "  File \"/home/morax/workspace/ml-projects/cropwala/.venv/lib/python3.12/site-packages/sklearn/utils/_param_validation.py\", line 98, in validate_parameter_constraints\n",
      "    raise InvalidParameterError(\n",
      "sklearn.utils._param_validation.InvalidParameterError: The 'max_features' parameter of RandomForestRegressor must be an int in the range [1, inf), a float in the range (0.0, 1.0], a str among {'log2', 'sqrt'} or None. Got 'auto' instead.\n",
      "\n",
      "  warnings.warn(some_fits_failed_message, FitFailedWarning)\n",
      "/home/morax/workspace/ml-projects/cropwala/.venv/lib/python3.12/site-packages/sklearn/model_selection/_search.py:1108: UserWarning: One or more of the test scores are non-finite: [-682.74217169           nan -728.62952232 -574.56416983 -539.16854831\n",
      " -542.41840039           nan           nan -643.45297213 -604.67461591\n",
      " -543.46538038 -538.87353737 -608.04166064 -728.61574994 -590.78726196\n",
      "           nan           nan -674.97448666 -577.51159054           nan\n",
      " -648.35116737 -679.35402274 -625.92132848 -677.92029375 -683.50316697\n",
      "           nan -625.02345168 -620.63418608 -602.31782121           nan\n",
      "           nan           nan -619.41777491 -685.0862668  -738.75117654\n",
      " -539.98256473           nan -626.7853636  -673.91743832 -650.22690287\n",
      " -676.37404907 -724.45045314           nan -588.06759098           nan\n",
      "           nan -634.86184505           nan           nan           nan\n",
      " -735.53854134 -676.03985074 -648.69057285 -736.88571385 -574.92332844\n",
      " -623.39603794 -640.95305001           nan           nan           nan\n",
      "           nan -582.21842519 -721.39491907 -609.64941384 -662.04749583\n",
      " -653.24253583           nan -618.98734311 -682.147595   -658.41590768\n",
      "           nan -538.33478725 -603.61052398 -627.71587547           nan]\n",
      "  warnings.warn(\n"
     ]
    },
    {
     "name": "stdout",
     "output_type": "stream",
     "text": [
      "Optimized RMSE (Random Forest): 21.42920423982512\n",
      "Best Params (Random Forest): {'estimator__n_estimators': 300, 'estimator__min_samples_split': 5, 'estimator__min_samples_leaf': 1, 'estimator__max_features': 'sqrt', 'estimator__max_depth': 50, 'estimator__bootstrap': False}\n"
     ]
    }
   ],
   "source": [
    "from sklearn.ensemble import RandomForestRegressor\n",
    "from sklearn.multioutput import MultiOutputRegressor\n",
    "from sklearn.model_selection import RandomizedSearchCV\n",
    "from sklearn.metrics import mean_squared_error\n",
    "import numpy as np\n",
    "import joblib\n",
    "\n",
    "rf_model = RandomForestRegressor(random_state=42)\n",
    "\n",
    "multi_rf_model = MultiOutputRegressor(rf_model)\n",
    "\n",
    "param_dist = {\n",
    "    'estimator__n_estimators': [100, 200, 300, 500],       \n",
    "    'estimator__max_depth': [None, 10, 20, 30, 50],        \n",
    "    'estimator__min_samples_split': [2, 5, 10],            \n",
    "    'estimator__min_samples_leaf': [1, 2, 4],              \n",
    "    'estimator__max_features': ['auto', 'sqrt', 'log2'],  \n",
    "    'estimator__bootstrap': [True, False]                  \n",
    "}\n",
    "\n",
    "random_search_rf = RandomizedSearchCV(\n",
    "    estimator=multi_rf_model,\n",
    "    param_distributions=param_dist,\n",
    "    n_iter=75,\n",
    "    cv=3,\n",
    "    scoring='neg_mean_squared_error',\n",
    "    verbose=1,\n",
    "    random_state=42,\n",
    "    n_jobs=-1\n",
    ")\n",
    "\n",
    "random_search_rf.fit(X_train, y_train)\n",
    "\n",
    "best_rf_model = random_search_rf.best_estimator_\n",
    "\n",
    "preds_rf = best_rf_model.predict(X_test)\n",
    "rmse_rf = np.sqrt(mean_squared_error(y_test, preds_rf))\n",
    "print(\"Optimized RMSE (Random Forest):\", rmse_rf)\n",
    "print(\"Best Params (Random Forest):\", random_search_rf.best_params_)"
   ]
  },
  {
   "cell_type": "code",
   "execution_count": null,
   "id": "8961a857",
   "metadata": {},
   "outputs": [],
   "source": [
    "with open('../train/best_rf_model.pkl', 'wb') as model_pkl:\n",
    "    pickle.dump(best_rf_model, model_pkl)"
   ]
  },
  {
   "cell_type": "code",
   "execution_count": null,
   "id": "47347932",
   "metadata": {},
   "outputs": [
    {
     "name": "stdout",
     "output_type": "stream",
     "text": [
      "<class 'sklearn.multioutput.MultiOutputRegressor'>\n"
     ]
    }
   ],
   "source": [
    "with open('../train/best_rf_model.pkl', 'rb') as model_pkl:\n",
    "    model = pickle.load(model_pkl)\n",
    "\n",
    "    print(type(model))\n"
   ]
  },
  {
   "cell_type": "markdown",
   "id": "0fc45397",
   "metadata": {},
   "source": [
    "## Linear Regression"
   ]
  },
  {
   "cell_type": "code",
   "execution_count": null,
   "id": "685e603c",
   "metadata": {},
   "outputs": [
    {
     "data": {
      "text/plain": [
       "'from sklearn.linear_model import LinearRegression\\nfrom sklearn.multioutput import MultiOutputRegressor\\nfrom sklearn.metrics import mean_squared_error\\nimport numpy as np\\nimport joblib\\n\\nlr_model = LinearRegression()\\n\\nmulti_lr_model = MultiOutputRegressor(lr_model)\\n\\nmulti_lr_model.fit(X_train, y_train)\\n\\npreds_lr = multi_lr_model.predict(X_test)\\n\\nrmse_lr = np.sqrt(mean_squared_error(y_test, preds_lr))\\nprint(\"RMSE (Linear Regression):\", rmse_lr)'"
      ]
     },
     "execution_count": 34,
     "metadata": {},
     "output_type": "execute_result"
    }
   ],
   "source": [
    "'''from sklearn.linear_model import LinearRegression\n",
    "from sklearn.multioutput import MultiOutputRegressor\n",
    "from sklearn.metrics import mean_squared_error\n",
    "import numpy as np\n",
    "import joblib\n",
    "\n",
    "lr_model = LinearRegression()\n",
    "\n",
    "multi_lr_model = MultiOutputRegressor(lr_model)\n",
    "\n",
    "multi_lr_model.fit(X_train, y_train)\n",
    "\n",
    "preds_lr = multi_lr_model.predict(X_test)\n",
    "\n",
    "rmse_lr = np.sqrt(mean_squared_error(y_test, preds_lr))\n",
    "print(\"RMSE (Linear Regression):\", rmse_lr)'''"
   ]
  },
  {
   "cell_type": "markdown",
   "id": "bd7e6595",
   "metadata": {},
   "source": [
    "## Decision Tree"
   ]
  },
  {
   "cell_type": "code",
   "execution_count": null,
   "id": "e4a5580b",
   "metadata": {},
   "outputs": [
    {
     "data": {
      "text/plain": [
       "'from sklearn.tree import DecisionTreeRegressor\\nfrom sklearn.multioutput import MultiOutputRegressor\\nfrom sklearn.metrics import mean_squared_error\\nimport numpy as np\\nimport joblib\\n\\ndt_model = DecisionTreeRegressor(random_state=42)\\n\\nmulti_dt_model = MultiOutputRegressor(dt_model)\\n\\nmulti_dt_model.fit(X_train, y_train)\\n\\npreds_dt = multi_dt_model.predict(X_test)\\n\\nrmse_dt = np.sqrt(mean_squared_error(y_test, preds_dt))\\nprint(\"RMSE (Decision Tree):\", rmse_dt)'"
      ]
     },
     "execution_count": 35,
     "metadata": {},
     "output_type": "execute_result"
    }
   ],
   "source": [
    "'''from sklearn.tree import DecisionTreeRegressor\n",
    "from sklearn.multioutput import MultiOutputRegressor\n",
    "from sklearn.metrics import mean_squared_error\n",
    "import numpy as np\n",
    "import joblib\n",
    "\n",
    "dt_model = DecisionTreeRegressor(random_state=42)\n",
    "\n",
    "multi_dt_model = MultiOutputRegressor(dt_model)\n",
    "\n",
    "multi_dt_model.fit(X_train, y_train)\n",
    "\n",
    "preds_dt = multi_dt_model.predict(X_test)\n",
    "\n",
    "rmse_dt = np.sqrt(mean_squared_error(y_test, preds_dt))\n",
    "print(\"RMSE (Decision Tree):\", rmse_dt)'''"
   ]
  },
  {
   "cell_type": "markdown",
   "id": "c44b16e9",
   "metadata": {},
   "source": [
    "## Catboost"
   ]
  },
  {
   "cell_type": "code",
   "execution_count": null,
   "id": "49f922bf",
   "metadata": {},
   "outputs": [
    {
     "data": {
      "text/plain": [
       "'from sklearn.datasets import make_regression\\nfrom sklearn.model_selection import cross_val_score, KFold\\nfrom sklearn.multioutput import MultiOutputRegressor\\nfrom catboost import CatBoostRegressor\\nimport numpy as np\\n\\nX, y = make_regression(n_samples=1000, n_features=20, n_targets=3, noise=0.1, random_state=42)\\n\\ncatboost_params = {\\n    \\'iterations\\': 100,\\n    \\'learning_rate\\': 0.1,\\n    \\'depth\\': 6,\\n    \\'verbose\\': 0  \\n}\\nbase_model = CatBoostRegressor(**catboost_params)\\n\\nmulti_target_model = MultiOutputRegressor(base_model)\\n\\ncv = KFold(n_splits=5, shuffle=True, random_state=42)\\n\\nscores = cross_val_score(multi_target_model, X, y, cv=cv, scoring=\\'neg_mean_squared_error\\')\\n\\nprint(\"Cross-validated MSE scores (negated):\", scores)\\nprint(\"Mean MSE:\", -np.mean(scores))\\n'"
      ]
     },
     "execution_count": 36,
     "metadata": {},
     "output_type": "execute_result"
    }
   ],
   "source": [
    "'''from sklearn.datasets import make_regression\n",
    "from sklearn.model_selection import cross_val_score, KFold\n",
    "from sklearn.multioutput import MultiOutputRegressor\n",
    "from catboost import CatBoostRegressor\n",
    "import numpy as np\n",
    "\n",
    "X, y = make_regression(n_samples=1000, n_features=20, n_targets=3, noise=0.1, random_state=42)\n",
    "\n",
    "catboost_params = {\n",
    "    'iterations': 100,\n",
    "    'learning_rate': 0.1,\n",
    "    'depth': 6,\n",
    "    'verbose': 0  \n",
    "}\n",
    "base_model = CatBoostRegressor(**catboost_params)\n",
    "\n",
    "multi_target_model = MultiOutputRegressor(base_model)\n",
    "\n",
    "cv = KFold(n_splits=5, shuffle=True, random_state=42)\n",
    "\n",
    "scores = cross_val_score(multi_target_model, X, y, cv=cv, scoring='neg_mean_squared_error')\n",
    "\n",
    "print(\"Cross-validated MSE scores (negated):\", scores)\n",
    "print(\"Mean MSE:\", -np.mean(scores))\n",
    "'''"
   ]
  },
  {
   "cell_type": "code",
   "execution_count": null,
   "id": "44caaac6",
   "metadata": {},
   "outputs": [
    {
     "data": {
      "text/plain": [
       "'from sklearn.model_selection import cross_validate\\n\\nscoring = {\\'mse\\': \\'neg_mean_squared_error\\', \\'r2\\': \\'r2\\'}\\nresults = cross_validate(multi_target_model, X, y, cv=cv, scoring=scoring, return_train_score=True)\\n\\nprint(\"Test MSE:\", np.sqrt(-results[\\'test_mse\\'].mean()))\\nprint(\"Test R2:\", results[\\'test_r2\\'].mean())'"
      ]
     },
     "execution_count": 37,
     "metadata": {},
     "output_type": "execute_result"
    }
   ],
   "source": [
    "'''from sklearn.model_selection import cross_validate\n",
    "\n",
    "scoring = {'mse': 'neg_mean_squared_error', 'r2': 'r2'}\n",
    "results = cross_validate(multi_target_model, X, y, cv=cv, scoring=scoring, return_train_score=True)\n",
    "\n",
    "print(\"Test MSE:\", np.sqrt(-results['test_mse'].mean()))\n",
    "print(\"Test R2:\", results['test_r2'].mean())'''"
   ]
  }
 ],
 "metadata": {
  "kernelspec": {
   "display_name": ".venv",
   "language": "python",
   "name": "python3"
  },
  "language_info": {
   "codemirror_mode": {
    "name": "ipython",
    "version": 3
   },
   "file_extension": ".py",
   "mimetype": "text/x-python",
   "name": "python",
   "nbconvert_exporter": "python",
   "pygments_lexer": "ipython3",
   "version": "3.12.9"
  }
 },
 "nbformat": 4,
 "nbformat_minor": 5
}
