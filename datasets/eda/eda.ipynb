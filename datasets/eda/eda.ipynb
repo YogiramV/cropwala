{
 "cells": [
  {
   "cell_type": "code",
   "execution_count": 2,
   "id": "11cfe8d5",
   "metadata": {},
   "outputs": [],
   "source": [
    "import pandas as pd\n",
    "import seaborn as sns"
   ]
  },
  {
   "cell_type": "code",
   "execution_count": 3,
   "id": "3e234a19",
   "metadata": {},
   "outputs": [],
   "source": [
    "data=pd.read_csv('../fertilizer.csv')"
   ]
  },
  {
   "cell_type": "code",
   "execution_count": null,
   "id": "f821ab06",
   "metadata": {},
   "outputs": [],
   "source": [
    "#Drop duplicates\n",
    "data.drop_duplicates(inplace=True)"
   ]
  },
  {
   "cell_type": "code",
   "execution_count": null,
   "id": "1fd11360",
   "metadata": {},
   "outputs": [],
   "source": [
    "#Remove unnecessary columns\n",
    "data.drop('Remark', axis=1, inplace=True)\n",
    "data.drop('Fertilizer', axis=1, inplace=True)\n"
   ]
  },
  {
   "cell_type": "code",
   "execution_count": null,
   "id": "ea92a418",
   "metadata": {},
   "outputs": [],
   "source": [
    "#OneHot Encoding\n",
    "cat_columns=data.select_dtypes(include=['object'])\n",
    "cat_encoded = pd.get_dummies(cat_columns).astype(int)\n",
    "onehot_data=data.drop(columns=cat_columns.columns)\n",
    "onehot_data = pd.concat([onehot_data, cat_encoded], axis=1)"
   ]
  },
  {
   "cell_type": "code",
   "execution_count": null,
   "id": "e176d48f",
   "metadata": {},
   "outputs": [],
   "source": [
    "#Feature engineering\n",
    "\n",
    "#Use onehot_encoded data\n",
    "final_data=onehot_data.copy()\n",
    "\n",
    "# #use cat data\n",
    "#final_data=data.copy()"
   ]
  },
  {
   "cell_type": "code",
   "execution_count": null,
   "id": "4ad66079",
   "metadata": {},
   "outputs": [],
   "source": [
    "#Data Engineering\n",
    "\n",
    "#Replace -ve values with positive values\n",
    "final_data['Nitrogen']= final_data['Nitrogen'].abs()\n",
    "final_data['Phosphorous']= final_data['Phosphorous'].abs()\n",
    "final_data['Potassium']= final_data['Potassium'].abs()"
   ]
  },
  {
   "cell_type": "code",
   "execution_count": null,
   "id": "9d65c88a",
   "metadata": {},
   "outputs": [],
   "source": [
    "# Saving the dataset\n",
    "final_data.to_csv('fertilizer_cleaned.csv', index=False)"
   ]
  }
 ],
 "metadata": {
  "kernelspec": {
   "display_name": "Python (venv)",
   "language": "python",
   "name": "venv"
  },
  "language_info": {
   "codemirror_mode": {
    "name": "ipython",
    "version": 3
   },
   "file_extension": ".py",
   "mimetype": "text/x-python",
   "name": "python",
   "nbconvert_exporter": "python",
   "pygments_lexer": "ipython3",
   "version": "3.13.3"
  }
 },
 "nbformat": 4,
 "nbformat_minor": 5
}
